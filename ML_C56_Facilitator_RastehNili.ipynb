{
  "nbformat": 4,
  "nbformat_minor": 0,
  "metadata": {
    "colab": {
      "provenance": [],
      "authorship_tag": "ABX9TyM7ZhH7rSw4cv0P+J955elc",
      "include_colab_link": true
    },
    "kernelspec": {
      "name": "python3",
      "display_name": "Python 3"
    },
    "language_info": {
      "name": "python"
    }
  },
  "cells": [
    {
      "cell_type": "markdown",
      "metadata": {
        "id": "view-in-github",
        "colab_type": "text"
      },
      "source": [
        "<a href=\"https://colab.research.google.com/github/rastehNili/lending_club_case/blob/main/ML_C56_Facilitator_RastehNili.ipynb\" target=\"_parent\"><img src=\"https://colab.research.google.com/assets/colab-badge.svg\" alt=\"Open In Colab\"/></a>"
      ]
    },
    {
      "cell_type": "markdown",
      "source": [
        "*   Write all your code in one well-commented Python file; briefly mention the insights and observations from the analysis\n",
        "\n",
        "*   Present the overall approach of the analysis in a presentation:\n",
        "\n",
        "> 1. Mention the problem statement and the analysis approach briefly\n",
        "\n",
        "> 2. Explain the results of univariate, bivariate analysis etc. in business terms\n",
        "\n",
        "> 3. Include visualisations and summarise the most important results in the presentation\n",
        "\n",
        "*   You need to submit one Ipython notebook which clearly explains the thought process behind your analysis (either in comments of markdown text), code and relevant plots."
      ],
      "metadata": {
        "id": "5SmTirwVr7nW"
      }
    },
    {
      "cell_type": "code",
      "execution_count": 1,
      "metadata": {
        "id": "J8zCYg7WoL0r"
      },
      "outputs": [],
      "source": [
        "from google.colab import drive"
      ]
    }
  ]
}